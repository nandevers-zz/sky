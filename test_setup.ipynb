{
 "cells": [
  {
   "cell_type": "code",
   "execution_count": 13,
   "metadata": {
    "scrolled": true
   },
   "outputs": [],
   "source": [
    "# download image/captcha\n",
    "#img = driver.find_element_by_xpath(\".//*[@id='trRandom3']/td[2]/img\")\n",
    "#img = driver.find_element_by_xpath(\".//*img[2]\")\n"
   ]
  },
  {
   "cell_type": "code",
   "execution_count": 1,
   "metadata": {},
   "outputs": [],
   "source": [
    "from selenium import webdriver\n",
    "import urllib.request\n",
    "from PIL import Image\n",
    "import cv2 \n",
    "import mechanize\n",
    "\n",
    "import requests\n",
    "from bs4 import BeautifulSoup"
   ]
  },
  {
   "cell_type": "code",
   "execution_count": 3,
   "metadata": {},
   "outputs": [],
   "source": [
    "from selenium.webdriver.common.by import By\n",
    "from selenium.webdriver.support.ui import WebDriverWait\n",
    "from selenium.webdriver.support import expected_conditions as EC"
   ]
  },
  {
   "cell_type": "code",
   "execution_count": 4,
   "metadata": {},
   "outputs": [],
   "source": [
    "URL = 'https://servicos.receita.fazenda.gov.br/Servicos/certidao/CNDConjuntaInter/InformaNICertidao.asp?tipo=2'"
   ]
  },
  {
   "cell_type": "code",
   "execution_count": 6,
   "metadata": {},
   "outputs": [],
   "source": [
    "driver = webdriver.Chrome()"
   ]
  },
  {
   "cell_type": "code",
   "execution_count": 7,
   "metadata": {},
   "outputs": [],
   "source": [
    "driver.get(URL)"
   ]
  },
  {
   "cell_type": "code",
   "execution_count": 8,
   "metadata": {},
   "outputs": [],
   "source": [
    "page = requests.get(URL)\n",
    "\n",
    "soup = BeautifulSoup(page.content, 'html.parser')\n",
    "tags = soup.findAll('img')"
   ]
  },
  {
   "cell_type": "code",
   "execution_count": 9,
   "metadata": {},
   "outputs": [],
   "source": [
    "def get_captcha(driver, element, path):\n",
    "    # now that we have the preliminary stuff out of the way time to get that image :D\n",
    "    location = element.location\n",
    "    size = element.size\n",
    "    # saves screenshot of entire page\n",
    "    driver.save_screenshot(path)\n",
    "\n",
    "    # uses PIL library to open image in memory\n",
    "    image = Image.open(path)\n",
    "\n",
    "    left = location['x']\n",
    "    top = location['y'] \n",
    "    right = location['x'] + size['width']\n",
    "    bottom = location['y'] + size['height'] \n",
    "\n",
    "    \n",
    "    image = image.crop((left, top, right, bottom))  # defines crop points\n",
    "    image.save(path, 'png')  # saves new cropped image\n",
    "    return(image)\n"
   ]
  },
  {
   "cell_type": "code",
   "execution_count": 10,
   "metadata": {},
   "outputs": [],
   "source": [
    "img = driver.find_element_by_id('imgCaptchaSerpro')\n",
    "\n",
    "img.location\n",
    "img.size"
   ]
  },
  {
   "cell_type": "code",
   "execution_count": 16,
   "metadata": {},
   "outputs": [],
   "source": [
    "capt = get_captcha(driver, img, f\"data/sample.png\")"
   ]
  },
  {
   "cell_type": "code",
   "execution_count": 18,
   "metadata": {},
   "outputs": [],
   "source": [
    "import cv2\n",
    "\n",
    "# carrega a imagem colorida e transforma ela em uma matriz do numpy\n",
    "image = cv2.imread('data/sample.png')\n",
    "# calcula o pixel com menor intensidade\n",
    "# inicia a cor com o maior valor possivel\n",
    "color = 255 * 3\n",
    "\n",
    "# pega as dimensoes da imagem\n",
    "(rows, cols, depth) = image.shape\n"
   ]
  },
  {
   "cell_type": "code",
   "execution_count": 19,
   "metadata": {},
   "outputs": [],
   "source": [
    "for row in range(rows):\n",
    "    for col in range(cols):\n",
    "\n",
    "        # acessa um pixel da imagem\n",
    "        pixel     = image[row][col]\n",
    "        (r, g, b) = pixel.tolist()\n",
    "\n",
    "        if color > (r + g + b):\n",
    "            color = r + g + b"
   ]
  },
  {
   "cell_type": "code",
   "execution_count": 27,
   "metadata": {},
   "outputs": [],
   "source": [
    "image2 = image.copy()"
   ]
  },
  {
   "cell_type": "code",
   "execution_count": 28,
   "metadata": {},
   "outputs": [],
   "source": [
    "for row in range(rows):\n",
    "    for col in range(cols):\n",
    "        pixel = image[row][col]\n",
    "        (r, g, b) = pixel.tolist()\n",
    "        c = (r + g + b)\n",
    "\n",
    "        # pinta de branco o que nao for letra\n",
    "        if c != color:\n",
    "            image2[row][col] = (255, 255, 255)\n",
    "        # pinta de preto o que for letra\n",
    "        else:\n",
    "            image2[row][col] = (0, 0, 0)"
   ]
  },
  {
   "cell_type": "code",
   "execution_count": 29,
   "metadata": {},
   "outputs": [
    {
     "data": {
      "text/plain": [
       "array([[[ 72,  72,  72],\n",
       "        [  0,   0,   0],\n",
       "        [  0,   0,   0],\n",
       "        ...,\n",
       "        [250, 250, 250],\n",
       "        [250, 250, 250],\n",
       "        [250, 250, 250]],\n",
       "\n",
       "       [[  0,   0,   0],\n",
       "        [  0,   0,   0],\n",
       "        [  0,   0,   0],\n",
       "        ...,\n",
       "        [255, 255, 255],\n",
       "        [255, 255, 255],\n",
       "        [255, 255, 255]],\n",
       "\n",
       "       [[  0,   0,   0],\n",
       "        [ 96,  96,  96],\n",
       "        [191, 191, 191],\n",
       "        ...,\n",
       "        [255, 255, 255],\n",
       "        [255, 255, 255],\n",
       "        [255, 255, 255]],\n",
       "\n",
       "       ...,\n",
       "\n",
       "       [[118, 118, 118],\n",
       "        [  0,   0,   0],\n",
       "        [  8,   8,   8],\n",
       "        ...,\n",
       "        [255, 255, 255],\n",
       "        [255, 255, 255],\n",
       "        [255, 255, 255]],\n",
       "\n",
       "       [[242, 242, 242],\n",
       "        [ 40,  40,  40],\n",
       "        [  0,   0,   0],\n",
       "        ...,\n",
       "        [255, 255, 255],\n",
       "        [255, 255, 255],\n",
       "        [255, 255, 255]],\n",
       "\n",
       "       [[250, 250, 250],\n",
       "        [199, 199, 199],\n",
       "        [  8,   8,   8],\n",
       "        ...,\n",
       "        [255, 255, 255],\n",
       "        [255, 255, 255],\n",
       "        [255, 255, 255]]], dtype=uint8)"
      ]
     },
     "execution_count": 29,
     "metadata": {},
     "output_type": "execute_result"
    }
   ],
   "source": [
    "image"
   ]
  },
  {
   "cell_type": "code",
   "execution_count": 30,
   "metadata": {},
   "outputs": [],
   "source": [
    "img = Image.fromarray(image,'RGB')\n",
    "#img.save('my.png')\n",
    "img.show()"
   ]
  },
  {
   "cell_type": "code",
   "execution_count": null,
   "metadata": {},
   "outputs": [],
   "source": []
  },
  {
   "cell_type": "code",
   "execution_count": 31,
   "metadata": {},
   "outputs": [],
   "source": [
    "def recursive_bounding(image, row, col, letter_color):\n",
    "\n",
    "    min_x = col\n",
    "    min_y = row\n",
    "\n",
    "    max_x = col\n",
    "    max_y = row\n",
    "\n",
    "    (rows, cols, depth) = image.shape\n",
    "\n",
    "    for r in range(    max(0, row - 1), min(row + 2, rows)):\n",
    "        for c in range(max(0, col - 1), min(col + 2, cols)):\n",
    "            if r == row and c == col:\n",
    "                continue\n",
    "\n",
    "            (r1, g1, b1) = image[r][c]\n",
    "            t = (r1 + g1 + b1)\n",
    "\n",
    "            # vizinho nao pertence a letra, ignora ele\n",
    "            if t != letter_color:\n",
    "                continue\n",
    "\n",
    "            # apaga esse pixel\n",
    "            # nao salvamos ele como branco pq precisaremos dele\n",
    "            # no proximo processamento\n",
    "            image[r][c] = (20, 20, 20)\n",
    "\n",
    "            points = recursive_bounding(image, r, c, letter_color)\n",
    "            (min_x1, max_x1, min_y1, max_y1) = points;\n",
    "\n",
    "            min_x = min(min_x, min_x1, c)\n",
    "            max_x = max(max_x, max_x1, c)\n",
    "            min_y = min(min_y, min_y1, r)\n",
    "            max_y = max(max_y, max_y1, r)\n",
    "\n",
    "    return (min_x, max_x, min_y, max_y)"
   ]
  },
  {
   "cell_type": "code",
   "execution_count": 61,
   "metadata": {},
   "outputs": [
    {
     "data": {
      "text/plain": [
       "180"
      ]
     },
     "execution_count": 61,
     "metadata": {},
     "output_type": "execute_result"
    }
   ],
   "source": [
    "cols"
   ]
  },
  {
   "cell_type": "code",
   "execution_count": 62,
   "metadata": {},
   "outputs": [
    {
     "ename": "AttributeError",
     "evalue": "'numpy.ndarray' object has no attribute 'to_list'",
     "output_type": "error",
     "traceback": [
      "\u001b[1;31m---------------------------------------------------------------------------\u001b[0m",
      "\u001b[1;31mAttributeError\u001b[0m                            Traceback (most recent call last)",
      "\u001b[1;32m<ipython-input-62-fd880b11f678>\u001b[0m in \u001b[0;36m<module>\u001b[1;34m\u001b[0m\n\u001b[1;32m----> 1\u001b[1;33m \u001b[0mimage\u001b[0m\u001b[1;33m[\u001b[0m\u001b[1;36m0\u001b[0m\u001b[1;33m]\u001b[0m\u001b[1;33m[\u001b[0m\u001b[1;36m0\u001b[0m\u001b[1;33m]\u001b[0m\u001b[1;33m.\u001b[0m\u001b[0mto_list\u001b[0m\u001b[1;33m(\u001b[0m\u001b[1;33m)\u001b[0m\u001b[1;33m\u001b[0m\u001b[1;33m\u001b[0m\u001b[0m\n\u001b[0m",
      "\u001b[1;31mAttributeError\u001b[0m: 'numpy.ndarray' object has no attribute 'to_list'"
     ]
    }
   ],
   "source": [
    "image[0][0].to_list()"
   ]
  },
  {
   "cell_type": "code",
   "execution_count": 83,
   "metadata": {},
   "outputs": [
    {
     "name": "stderr",
     "output_type": "stream",
     "text": [
      "<ipython-input-31-04c60363d4ca>:17: RuntimeWarning: overflow encountered in ubyte_scalars\n",
      "  t = (r1 + g1 + b1)\n"
     ]
    }
   ],
   "source": [
    "boxes = []\n",
    "letter_color = 0\n",
    "\n",
    "for row in range(rows):\n",
    "    for col in range(cols):\n",
    "        pixel     = image[row][col]\n",
    "        (r, g, b) = pixel.tolist();\n",
    "        t = (r + g + b)\n",
    "\n",
    "        # nao eh letra, ignora o pixel\n",
    "#        if t != letter_color:\n",
    "#            continue\n",
    "\n",
    "        # calcula a bounding box dessa letra\n",
    "        box = recursive_bounding(image, row, col, letter_color)\n",
    "\n",
    "        # salva o bounding box numa lista de boxes\n",
    "        boxes.append(box)\n",
    "\n",
    "boxes.sort()"
   ]
  },
  {
   "cell_type": "code",
   "execution_count": 84,
   "metadata": {},
   "outputs": [
    {
     "data": {
      "text/plain": [
       "765"
      ]
     },
     "execution_count": 84,
     "metadata": {},
     "output_type": "execute_result"
    }
   ],
   "source": [
    "t"
   ]
  },
  {
   "cell_type": "code",
   "execution_count": null,
   "metadata": {},
   "outputs": [],
   "source": []
  },
  {
   "cell_type": "code",
   "execution_count": 67,
   "metadata": {},
   "outputs": [],
   "source": [
    "letters = []\n",
    "\n",
    "for box in boxes:\n",
    "    (col0, col1, row0, row1) = box\n",
    "\n",
    "    letter = image[row0:row1 + 1, col0:col1 + 1]\n",
    "    letters.append(letter)"
   ]
  },
  {
   "cell_type": "code",
   "execution_count": 68,
   "metadata": {},
   "outputs": [],
   "source": [
    "import os\n",
    "import glob\n",
    "import collections\n",
    "\n",
    "def load_templates():\n",
    "    # filtra os arquivos .png\n",
    "    files = glob.glob('templates/*.png')\n",
    "\n",
    "    # dicionario com as imagens\n",
    "    # chave = letra\n",
    "    # valor = lista de imagem\n",
    "    templates = collections.defaultdict(list)\n",
    "\n",
    "    for file in files:\n",
    "        f = os.path.basename(file)\n",
    "\n",
    "        # o primeiro caracter do nome do arquivo eh a letra\n",
    "        # correspondente\n",
    "        letter = f[0]\n",
    "\n",
    "        # carrega a imagem\n",
    "        img = cv2.imread(file)\n",
    "\n",
    "        # muda a imagem pra tons de cinza\n",
    "        img = cv2.cvtColor(img, cv2.COLOR_RGB2GRAY)\n",
    "\n",
    "        # binariza a imagem\n",
    "        (_, img) = cv2.threshold(img, 245, 255, cv2.THRESH_BINARY)\n",
    "\n",
    "        # uma letra pode ter varios templates\n",
    "        templates[letter].append(img)\n",
    "\n",
    "    return templates"
   ]
  },
  {
   "cell_type": "code",
   "execution_count": 69,
   "metadata": {},
   "outputs": [
    {
     "data": {
      "text/plain": [
       "(1, 1, 3)"
      ]
     },
     "execution_count": 69,
     "metadata": {},
     "output_type": "execute_result"
    }
   ],
   "source": [
    "letters[0].shape"
   ]
  },
  {
   "cell_type": "code",
   "execution_count": 70,
   "metadata": {},
   "outputs": [],
   "source": [
    "def break_captcha(letters, templates):\n",
    "    captcha = ''\n",
    "    unrec   = 0\n",
    "\n",
    "    for letter in letters:\n",
    "\n",
    "        (rows, cols, depth) = letters.shape\n",
    "        best_error  = rows * cols\n",
    "        best_letter = ''\n",
    "\n",
    "        # copia a imagem, transformando de RGB para tons de cinza\n",
    "        gray = cv2.cvtColor(letter, cv2.COLOR_RGB2GRAY)\n",
    "\n",
    "        # binariza a imagem\n",
    "        (_, blackwhite) = cv2.threshold(gray, 240, 255, cv2.THRESH_BINARY);\n",
    "\n",
    "        for letter in templates:\n",
    "            for template in templates[letter]:\n",
    "\n",
    "                # se a imagem for de tamanho diferente do template\n",
    "                # ignora o template\n",
    "                if template.shape != blackwhite.shape:\n",
    "                    continue\n",
    "\n",
    "                # calculamos a diferenca entre as 2 imagens binarias\n",
    "                xor = template ^ blackwhite\n",
    "\n",
    "                errors = xor.sum()\n",
    "\n",
    "                if errors < best_error:\n",
    "                    best_error  = errors\n",
    "                    best_letter = letter\n",
    "\n",
    "                    # match perfeito\n",
    "                    if errors == 0:\n",
    "                        break;\n",
    "\n",
    "            # match perfeito\n",
    "            if best_match == 0:\n",
    "                break;\n",
    "\n",
    "        # nao casou exatamente com nenhuma letra\n",
    "        # provavelmente eh uma nova letra\n",
    "        if best_error != 0:\n",
    "            cv.SaveImage(\"image_%d.png\" % (unrec), gray)\n",
    "            unrec = unrec + 1\n",
    "\n",
    "        captcha = captcha + best_letter\n",
    "\n",
    "    return captcha"
   ]
  },
  {
   "cell_type": "code",
   "execution_count": 78,
   "metadata": {},
   "outputs": [],
   "source": [
    "img = Image.fromarray(letters[10], 'RGB')\n",
    "#img.save('my.png')\n",
    "img.show()"
   ]
  },
  {
   "cell_type": "code",
   "execution_count": 72,
   "metadata": {},
   "outputs": [],
   "source": [
    "img.show()"
   ]
  },
  {
   "cell_type": "code",
   "execution_count": 73,
   "metadata": {},
   "outputs": [
    {
     "data": {
      "text/plain": [
       "array([[[255, 255, 255]]], dtype=uint8)"
      ]
     },
     "execution_count": 73,
     "metadata": {},
     "output_type": "execute_result"
    }
   ],
   "source": [
    "letters[-2]"
   ]
  },
  {
   "cell_type": "code",
   "execution_count": 74,
   "metadata": {},
   "outputs": [],
   "source": [
    "templates = load_templates()"
   ]
  },
  {
   "cell_type": "code",
   "execution_count": 75,
   "metadata": {},
   "outputs": [
    {
     "ename": "AttributeError",
     "evalue": "'list' object has no attribute 'shape'",
     "output_type": "error",
     "traceback": [
      "\u001b[1;31m---------------------------------------------------------------------------\u001b[0m",
      "\u001b[1;31mAttributeError\u001b[0m                            Traceback (most recent call last)",
      "\u001b[1;32m<ipython-input-75-5b8d40eda5be>\u001b[0m in \u001b[0;36m<module>\u001b[1;34m\u001b[0m\n\u001b[1;32m----> 1\u001b[1;33m \u001b[0mletters\u001b[0m\u001b[1;33m.\u001b[0m\u001b[0mshape\u001b[0m\u001b[1;33m\u001b[0m\u001b[1;33m\u001b[0m\u001b[0m\n\u001b[0m",
      "\u001b[1;31mAttributeError\u001b[0m: 'list' object has no attribute 'shape'"
     ]
    }
   ],
   "source": [
    "letters.shape"
   ]
  },
  {
   "cell_type": "code",
   "execution_count": null,
   "metadata": {
    "scrolled": false
   },
   "outputs": [],
   "source": [
    " break_captcha(letters[0], templates)"
   ]
  },
  {
   "cell_type": "code",
   "execution_count": null,
   "metadata": {},
   "outputs": [],
   "source": [
    "gray = cv2.cvtColor(letters[1], cv2.COLOR_RGB2GRAY)"
   ]
  },
  {
   "cell_type": "code",
   "execution_count": null,
   "metadata": {},
   "outputs": [],
   "source": [
    "gray.show()"
   ]
  },
  {
   "cell_type": "code",
   "execution_count": 82,
   "metadata": {},
   "outputs": [],
   "source": [
    "img = Image.fromarray(image, 'RGB')\n",
    "#img.save('my.png')\n",
    "img.show()"
   ]
  },
  {
   "cell_type": "code",
   "execution_count": null,
   "metadata": {},
   "outputs": [],
   "source": []
  },
  {
   "cell_type": "code",
   "execution_count": null,
   "metadata": {},
   "outputs": [],
   "source": []
  }
 ],
 "metadata": {
  "kernelspec": {
   "display_name": "Python 3",
   "language": "python",
   "name": "python3"
  }
 },
 "nbformat": 4,
 "nbformat_minor": 4
}
